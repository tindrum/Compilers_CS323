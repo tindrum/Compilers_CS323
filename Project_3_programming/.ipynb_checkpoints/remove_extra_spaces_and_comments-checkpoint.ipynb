{
 "cells": [
  {
   "cell_type": "code",
   "execution_count": 53,
   "metadata": {
    "collapsed": false,
    "nbpresent": {
     "id": "a76e6382-55b8-4180-8e0d-046e7c4ac750"
    }
   },
   "outputs": [],
   "source": [
    "%load_ext autoreload\n",
    "%autoreload 2\n",
    "\n",
    "# These directives will automatically reload any modules that are loaded from file."
   ]
  },
  {
   "cell_type": "markdown",
   "metadata": {},
   "source": [
    "First, let's create a bunch of character identifier functions. If you have a character, pass it into any or all of these functions to find out what it is, or isn't."
   ]
  },
  {
   "cell_type": "code",
   "execution_count": 54,
   "metadata": {
    "collapsed": false
   },
   "outputs": [],
   "source": [
    "def is_char(character):\n",
    "    \"\"\"\n",
    "    Returns True if the character passed in is a letter,\n",
    "    False otherwise. \n",
    "    \n",
    "    Uses ASCII code points to determine what range a character is in.\n",
    "    \"\"\"\n",
    "    if ord(character) >= 65 and ord(character) <= 90:\n",
    "        return True\n",
    "    elif ord(character) >= 97 and ord(character) <= 122:\n",
    "        return True\n",
    "    else:\n",
    "        return False\n",
    "    \n",
    "\n",
    "def is_digit(character):\n",
    "    \"\"\"\n",
    "    Returns True if the character passed in is a digit,\n",
    "    False otherwise. \n",
    "    \n",
    "    Uses ASCII code points to determine what range a character is in.\n",
    "    \"\"\"\n",
    "    if ord(character) >= 48 and ord(character) <= 57:\n",
    "        return True\n",
    "    else:\n",
    "        return False\n",
    "    \n",
    "\n",
    "def is_whitespace(character):\n",
    "    \"\"\"\n",
    "    Returns True if the character passed in is white space\n",
    "    (space, tab),\n",
    "    False otherwise. \n",
    "    \n",
    "    Uses ASCII code points to determine what range a character is in.\n",
    "    \"\"\"\n",
    "    if ord(character) == 32 or ord(character) <= 9:\n",
    "        return True\n",
    "    else:\n",
    "        return False\n",
    "    \n",
    "    "
   ]
  },
  {
   "cell_type": "code",
   "execution_count": 55,
   "metadata": {
    "collapsed": false
   },
   "outputs": [
    {
     "data": {
      "text/plain": [
       "False"
      ]
     },
     "execution_count": 55,
     "metadata": {},
     "output_type": "execute_result"
    }
   ],
   "source": [
    "is_whitespace('g')"
   ]
  },
  {
   "cell_type": "code",
   "execution_count": 56,
   "metadata": {
    "collapsed": false
   },
   "outputs": [],
   "source": [
    "import unittest\n",
    "\n",
    "class TestCharacterClassFunctions(unittest.TestCase):\n",
    "    \n",
    "    def testLetter(self):\n",
    "        self.assertTrue(is_char('a'))\n",
    "        self.assertFalse(is_char('*'))\n",
    "        print(\"letters work\")\n",
    "    \n",
    "    def testDigit(self):\n",
    "        self.assertTrue(is_digit('0'))\n",
    "        self.assertFalse(is_digit('*'))\n",
    "        print(\"numbers work\")\n",
    "    \n",
    "    def testWhitespace(self):\n",
    "        self.assertTrue(is_whitespace('\\t'))\n",
    "        self.assertTrue(is_whitespace(' '))\n",
    "        self.assertFalse(is_whitespace('*'))\n",
    "        print(\"whitespace work\")\n",
    "    \n",
    "    def run(self):\n",
    "        self.testLetter()\n",
    "        self.testDigit()\n",
    "        self.testWhitespace()\n"
   ]
  },
  {
   "cell_type": "code",
   "execution_count": 57,
   "metadata": {
    "collapsed": false
   },
   "outputs": [
    {
     "name": "stdout",
     "output_type": "stream",
     "text": [
      "letters work\n",
      "numbers work\n",
      "whitespace work\n"
     ]
    }
   ],
   "source": [
    "x = TestCharacterClassFunctions()\n",
    "x.run()"
   ]
  },
  {
   "cell_type": "markdown",
   "metadata": {
    "nbpresent": {
     "id": "f0bb925c-41e4-45d6-b1c8-b80ded37cf4b"
    }
   },
   "source": [
    " Read the text from an external file. \n",
    " \n",
    " The mode `'rb'` combines a Windows `\\r\\n` into one character `'\\n'`. \n",
    " \n",
    " This will be helpful because each control sequence will be only one character long. \n",
    " There will be no need for look-ahead and rewind to handle different newline sequences."
   ]
  },
  {
   "cell_type": "code",
   "execution_count": 62,
   "metadata": {
    "collapsed": false,
    "nbpresent": {
     "id": "49b7cc6e-b548-4977-86ff-875ac604eb6c"
    },
    "scrolled": true
   },
   "outputs": [],
   "source": [
    "datafile = open('data.txt', 'rb')"
   ]
  },
  {
   "cell_type": "code",
   "execution_count": 59,
   "metadata": {
    "collapsed": false,
    "nbpresent": {
     "id": "97c89112-2004-4500-8184-e44a193a7775"
    }
   },
   "outputs": [
    {
     "name": "stdout",
     "output_type": "stream",
     "text": [
      "//declare variables\n",
      "int   num1,   nume2,  num3  ,t;\n",
      "\n",
      "//initialize variables\n",
      "num1   =3;  num2 = 5   ;\n",
      "    num3    =       7 ;\n",
      "//compute and display their total\n",
      "t=      num1  +  num2;//compute num1+num2\n",
      "t  =  t+num3; //compute new value for t1\n",
      "\n",
      "cout<<  t   ;\\\n"
     ]
    }
   ],
   "source": [
    "for line in datafile:\n",
    "    print(line, end='')"
   ]
  },
  {
   "cell_type": "code",
   "execution_count": 60,
   "metadata": {
    "collapsed": false,
    "nbpresent": {
     "id": "853684cb-7014-4b01-bc5f-5410d2ee50bc"
    }
   },
   "outputs": [
    {
     "name": "stdout",
     "output_type": "stream",
     "text": [
      "Help on function is_digit in module __main__:\n",
      "\n",
      "is_digit(character)\n",
      "    Returns True if the character passed in is a digit,\n",
      "    False otherwise. \n",
      "    \n",
      "    Uses ASCII code points to determine what range a character is in.\n",
      "\n"
     ]
    }
   ],
   "source": [
    "help(is_digit)"
   ]
  },
  {
   "cell_type": "code",
   "execution_count": 61,
   "metadata": {
    "collapsed": false
   },
   "outputs": [
    {
     "data": {
      "text/plain": [
       "_io.TextIOWrapper"
      ]
     },
     "execution_count": 61,
     "metadata": {},
     "output_type": "execute_result"
    }
   ],
   "source": [
    "type(datafile)"
   ]
  },
  {
   "cell_type": "code",
   "execution_count": null,
   "metadata": {
    "collapsed": true
   },
   "outputs": [],
   "source": []
  }
 ],
 "metadata": {
  "anaconda-cloud": {},
  "kernelspec": {
   "display_name": "Python [Root]",
   "language": "python",
   "name": "Python [Root]"
  },
  "language_info": {
   "codemirror_mode": {
    "name": "ipython",
    "version": 3
   },
   "file_extension": ".py",
   "mimetype": "text/x-python",
   "name": "python",
   "nbconvert_exporter": "python",
   "pygments_lexer": "ipython3",
   "version": "3.5.2"
  },
  "nbpresent": {
   "slides": {
    "4776228e-7702-43cf-9d9c-ee2ee61e4b05": {
     "id": "4776228e-7702-43cf-9d9c-ee2ee61e4b05",
     "prev": "ddf438fb-23dc-46a3-bcdf-eef5d0ae2a26",
     "regions": {
      "c9cfa078-ddef-49aa-8055-86e672e0e84c": {
       "attrs": {
        "height": 0.8,
        "width": 0.8,
        "x": 0.1,
        "y": 0.1
       },
       "content": {
        "cell": "97c89112-2004-4500-8184-e44a193a7775",
        "part": "whole"
       },
       "id": "c9cfa078-ddef-49aa-8055-86e672e0e84c"
      }
     }
    },
    "5083fde8-ab34-48b2-a0fc-d2134a6f2ab9": {
     "id": "5083fde8-ab34-48b2-a0fc-d2134a6f2ab9",
     "prev": "4776228e-7702-43cf-9d9c-ee2ee61e4b05",
     "regions": {
      "f0e8a040-8c28-437e-8b1b-070231277e6d": {
       "attrs": {
        "height": 0.8,
        "width": 0.8,
        "x": 0.1,
        "y": 0.1
       },
       "content": {
        "cell": "853684cb-7014-4b01-bc5f-5410d2ee50bc",
        "part": "whole"
       },
       "id": "f0e8a040-8c28-437e-8b1b-070231277e6d"
      }
     }
    },
    "a31d8b8a-d7d4-42ac-813c-f618c81fcaa6": {
     "id": "a31d8b8a-d7d4-42ac-813c-f618c81fcaa6",
     "prev": null,
     "regions": {
      "7a032eca-cb7a-4e52-9c51-230b21089a50": {
       "attrs": {
        "height": 0.8,
        "width": 0.8,
        "x": 0.1,
        "y": 0.1
       },
       "content": {
        "cell": "a76e6382-55b8-4180-8e0d-046e7c4ac750",
        "part": "source"
       },
       "id": "7a032eca-cb7a-4e52-9c51-230b21089a50"
      }
     }
    },
    "d5bf9b60-06f8-48a6-84d0-897b426c8a24": {
     "id": "d5bf9b60-06f8-48a6-84d0-897b426c8a24",
     "prev": "a31d8b8a-d7d4-42ac-813c-f618c81fcaa6",
     "regions": {
      "f117ee1b-fce1-4f96-a9b3-2a9247dc46ed": {
       "attrs": {
        "height": 0.8,
        "width": 0.8,
        "x": 0.1,
        "y": 0.1
       },
       "content": {
        "cell": "49b7cc6e-b548-4977-86ff-875ac604eb6c",
        "part": "source"
       },
       "id": "f117ee1b-fce1-4f96-a9b3-2a9247dc46ed"
      }
     }
    },
    "ddf438fb-23dc-46a3-bcdf-eef5d0ae2a26": {
     "id": "ddf438fb-23dc-46a3-bcdf-eef5d0ae2a26",
     "prev": "d5bf9b60-06f8-48a6-84d0-897b426c8a24",
     "regions": {
      "44f5d758-66db-4075-9765-94cd273d63a9": {
       "attrs": {
        "height": 0.8,
        "width": 0.8,
        "x": 0.1,
        "y": 0.1
       },
       "content": {
        "cell": "49b7cc6e-b548-4977-86ff-875ac604eb6c",
        "part": "whole"
       },
       "id": "44f5d758-66db-4075-9765-94cd273d63a9"
      }
     }
    }
   },
   "themes": {}
  }
 },
 "nbformat": 4,
 "nbformat_minor": 0
}
