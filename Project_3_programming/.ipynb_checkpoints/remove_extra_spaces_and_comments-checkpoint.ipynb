{
 "cells": [
  {
   "cell_type": "code",
   "execution_count": 2,
   "metadata": {
    "collapsed": false
   },
   "outputs": [
    {
     "name": "stdout",
     "output_type": "stream",
     "text": [
      "The autoreload extension is already loaded. To reload it, use:\n",
      "  %reload_ext autoreload\n"
     ]
    }
   ],
   "source": [
    "%load_ext autoreload\n",
    "%autoreload 2\n",
    "\n",
    "# These directives will automatically reload any modules that are loaded from file."
   ]
  },
  {
   "cell_type": "markdown",
   "metadata": {},
   "source": []
  },
  {
   "cell_type": "code",
   "execution_count": 10,
   "metadata": {
    "collapsed": false
   },
   "outputs": [],
   "source": [
    "data = '''\\\n",
    "//declare variables\n",
    "int   num1,   nume2,  num3  ,t;\n",
    "\n",
    "//initialize variables\n",
    "num1   =3;  num2 = 5   ;\n",
    "    num3    =       7 ;\n",
    "//compute and display their total\n",
    "t=      num1  +  num2;//compute num1+num2\n",
    "t  =  t+num3; //compute new value for t1\n",
    "\n",
    "cout<<  t   ;\\\n",
    "'''"
   ]
  },
  {
   "cell_type": "code",
   "execution_count": 6,
   "metadata": {
    "collapsed": false
   },
   "outputs": [
    {
     "data": {
      "text/plain": [
       "'//declare variables\\nint   num1,   nume2,  num3  ,t;\\n\\n//initialize variables\\nnum1   =3;  num2 = 5   ;\\n    num3    =       7 ;\\n//compute and display their total\\nt=      num1  +  num2;//compute num1+num2\\nt  =  t+num3; //compute new value for t1\\n\\ncout<<  t   ;'"
      ]
     },
     "execution_count": 6,
     "metadata": {},
     "output_type": "execute_result"
    }
   ],
   "source": [
    "data"
   ]
  },
  {
   "cell_type": "code",
   "execution_count": 11,
   "metadata": {
    "collapsed": false
   },
   "outputs": [
    {
     "name": "stdout",
     "output_type": "stream",
     "text": [
      "//declare variables\n",
      "int   num1,   nume2,  num3  ,t;\n",
      "\n",
      "//initialize variables\n",
      "num1   =3;  num2 = 5   ;\n",
      "    num3    =       7 ;\n",
      "//compute and display their total\n",
      "t=      num1  +  num2;//compute num1+num2\n",
      "t  =  t+num3; //compute new value for t1\n",
      "\n",
      "cout<<  t   ;"
     ]
    }
   ],
   "source": [
    "for line in data:\n",
    "    print(line, end='')"
   ]
  },
  {
   "cell_type": "code",
   "execution_count": null,
   "metadata": {
    "collapsed": true
   },
   "outputs": [],
   "source": []
  }
 ],
 "metadata": {
  "anaconda-cloud": {},
  "kernelspec": {
   "display_name": "Python [Root]",
   "language": "python",
   "name": "Python [Root]"
  },
  "language_info": {
   "codemirror_mode": {
    "name": "ipython",
    "version": 3
   },
   "file_extension": ".py",
   "mimetype": "text/x-python",
   "name": "python",
   "nbconvert_exporter": "python",
   "pygments_lexer": "ipython3",
   "version": "3.5.2"
  }
 },
 "nbformat": 4,
 "nbformat_minor": 0
}
