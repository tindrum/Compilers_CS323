{
 "cells": [
  {
   "cell_type": "code",
   "execution_count": 1,
   "metadata": {
    "collapsed": true
   },
   "outputs": [],
   "source": [
    "%load_ext autoreload\n",
    "%autoreload 2\n",
    "\n",
    "# These directives will automatically reload any modules that are loaded from file."
   ]
  },
  {
   "cell_type": "code",
   "execution_count": 48,
   "metadata": {
    "collapsed": false
   },
   "outputs": [
    {
     "name": "stdout",
     "output_type": "stream",
     "text": [
      "starting word is: aaab\n",
      "start of word is fine: aaab\n",
      "after taking off first a: aab\n",
      "still finding a's: aab\n",
      "still finding a's: ab\n",
      "accepted word: b\n"
     ]
    }
   ],
   "source": [
    "word = \"aaab\"\n",
    "print(\"starting word is: \" + word)\n",
    "if word[0] == 'a':\n",
    "    print('start of word is fine: ' + word)\n",
    "    word = word[1:]\n",
    "    print('after taking off first a: ' + word)\n",
    "    while word[0] == 'a':\n",
    "        print(\"still finding a's: \" + word)\n",
    "        word = word[1:]\n",
    "    if word[0] == 'b':\n",
    "        print (\"accepted word: \" + word)\n",
    "    elif word[0] == 'c':\n",
    "        print(\"there's not supposed to be a c in here\")\n",
    "        # this is just an example of \n",
    "        # python's else-if syntax, not legit code \n",
    "    else:\n",
    "        print (\"bad word: \" + word)"
   ]
  },
  {
   "cell_type": "code",
   "execution_count": 8,
   "metadata": {
    "collapsed": false
   },
   "outputs": [
    {
     "data": {
      "text/plain": [
       "'aaaab'"
      ]
     },
     "execution_count": 8,
     "metadata": {},
     "output_type": "execute_result"
    }
   ],
   "source": [
    "word"
   ]
  },
  {
   "cell_type": "code",
   "execution_count": null,
   "metadata": {
    "collapsed": true
   },
   "outputs": [],
   "source": []
  }
 ],
 "metadata": {
  "anaconda-cloud": {},
  "kernelspec": {
   "display_name": "Python [Root]",
   "language": "python",
   "name": "Python [Root]"
  },
  "language_info": {
   "codemirror_mode": {
    "name": "ipython",
    "version": 3
   },
   "file_extension": ".py",
   "mimetype": "text/x-python",
   "name": "python",
   "nbconvert_exporter": "python",
   "pygments_lexer": "ipython3",
   "version": "3.5.2"
  }
 },
 "nbformat": 4,
 "nbformat_minor": 0
}
