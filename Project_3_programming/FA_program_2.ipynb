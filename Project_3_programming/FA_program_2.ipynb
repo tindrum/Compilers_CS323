{
 "cells": [
  {
   "cell_type": "code",
   "execution_count": 2,
   "metadata": {
    "collapsed": true
   },
   "outputs": [],
   "source": [
    "%load_ext autoreload\n",
    "%autoreload 2\n",
    "\n",
    "# These directives will automatically reload any modules that are loaded from file."
   ]
  },
  {
   "cell_type": "markdown",
   "metadata": {},
   "source": [
    "#### Computer Science 323\n",
    "#### Project No. 3\n",
    "### Team Members:\n",
    "* Maziar Bastani\n",
    "* Cody Broxton\n",
    "* Daniel Henderson"
   ]
  },
  {
   "cell_type": "markdown",
   "metadata": {},
   "source": [
    "#### Programming question 2\n",
    "\n",
    "Given `L=aa*b+bb*`. Write a program for the FA of the language to determine whether the following words are accepted or rejected by the language. `w1=aaab$` and `w2=bcbbca$` are stored in text file \"data.txt\""
   ]
  },
  {
   "cell_type": "code",
   "execution_count": 33,
   "metadata": {
    "collapsed": false
   },
   "outputs": [],
   "source": [
    "def in_language(word):\n",
    "    \"\"\"\n",
    "    Finite Automaton (FA) to test words for this pattern:\n",
    "    (aa*b)+(bb*)\n",
    "    Returns True if word matches pattern, \n",
    "    False otherwise.\n",
    "    \"\"\"\n",
    "    if word[0] == 'a': # this branch tests (aa*b)\n",
    "        word = word[1:] \n",
    "        # word starts with 'a'\n",
    "        # Use python 'slice' on list of characters:\n",
    "        # word <- 1st to last element of a zero-indexed list.\n",
    "        # Slice everything but the zero-th element\n",
    "        #\n",
    "        # This removes the first 'a'\n",
    "        while word[0] == 'a':\n",
    "            word = word[1:]\n",
    "            # remove zero or more 'a's\n",
    "        if word[0] == 'b' and len(word) == 1:\n",
    "            print(len(word))\n",
    "            return True\n",
    "            # word terminates with a 'b' \n",
    "        else:\n",
    "            return False\n",
    "    elif word[0] == 'b': # this branch tests (bb*)\n",
    "        word = word[1:]\n",
    "        # word begins with 'b', strip off the 'b'\n",
    "        while len(word) > 0 and word[0] == 'b':\n",
    "            word = word[1:]\n",
    "            # strip off zero or more 'b'\n",
    "        if len(word) == 0:\n",
    "            return True\n",
    "            # There should be nothing left\n",
    "    else:\n",
    "        return False\n",
    "    return False\n",
    "    # Any other pattern is NOT a match"
   ]
  },
  {
   "cell_type": "code",
   "execution_count": 28,
   "metadata": {
    "collapsed": true
   },
   "outputs": [],
   "source": [
    "def test_word(string):\n",
    "    \"\"\"\n",
    "    Driver function for in_language() function.\n",
    "    Prints result of test as an English sentence.\n",
    "    \"\"\"\n",
    "    if in_language(string):\n",
    "        print(\"%s is in language\" % string)\n",
    "    else:\n",
    "        print(\"%s is not in the language\" % string)\n",
    "    print(\"\")"
   ]
  },
  {
   "cell_type": "code",
   "execution_count": 29,
   "metadata": {
    "collapsed": false
   },
   "outputs": [
    {
     "name": "stdout",
     "output_type": "stream",
     "text": [
      "1\n",
      "aaab is in language\n",
      "\n",
      "bcbbca is not in the language\n",
      "\n"
     ]
    }
   ],
   "source": [
    "test_word(\"aaab\")\n",
    "test_word(\"bcbbca\")"
   ]
  },
  {
   "cell_type": "code",
   "execution_count": 38,
   "metadata": {
    "collapsed": false
   },
   "outputs": [
    {
     "name": "stdout",
     "output_type": "stream",
     "text": [
      "1\n",
      "aaab is in language\n",
      "\n",
      "\n",
      "bcbbca is not in the language\n",
      "\n",
      "\n",
      "aabbb is not in the language\n",
      "\n",
      "\n",
      "b is in language\n",
      "\n",
      "\n",
      "bb is in language\n",
      "\n",
      "\n",
      "bbbbbb is in language\n",
      "\n",
      "\n",
      "c is not in the language\n",
      "\n",
      "\n"
     ]
    }
   ],
   "source": [
    "datafile = open('data_proj2_prog2.txt', mode='r', encoding='utf-8')\n",
    "\n",
    "for line in datafile:\n",
    "    word = line[:-2]\n",
    "    if len(word) > 0:\n",
    "        test_word(word)\n",
    "    print()"
   ]
  },
  {
   "cell_type": "code",
   "execution_count": 21,
   "metadata": {
    "collapsed": false
   },
   "outputs": [
    {
     "data": {
      "text/plain": [
       "4"
      ]
     },
     "execution_count": 21,
     "metadata": {},
     "output_type": "execute_result"
    }
   ],
   "source": [
    "word = \"foot\"\n",
    "len(word)"
   ]
  },
  {
   "cell_type": "code",
   "execution_count": null,
   "metadata": {
    "collapsed": true
   },
   "outputs": [],
   "source": []
  }
 ],
 "metadata": {
  "anaconda-cloud": {},
  "kernelspec": {
   "display_name": "Python [Root]",
   "language": "python",
   "name": "Python [Root]"
  },
  "language_info": {
   "codemirror_mode": {
    "name": "ipython",
    "version": 3
   },
   "file_extension": ".py",
   "mimetype": "text/x-python",
   "name": "python",
   "nbconvert_exporter": "python",
   "pygments_lexer": "ipython3",
   "version": "3.5.2"
  }
 },
 "nbformat": 4,
 "nbformat_minor": 0
}
