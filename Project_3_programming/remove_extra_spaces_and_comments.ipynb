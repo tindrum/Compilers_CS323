{
 "cells": [
  {
   "cell_type": "code",
   "execution_count": 2,
   "metadata": {
    "collapsed": false,
    "nbpresent": {
     "id": "a76e6382-55b8-4180-8e0d-046e7c4ac750"
    }
   },
   "outputs": [],
   "source": [
    "%load_ext autoreload\n",
    "%autoreload 2\n",
    "\n",
    "# These directives will automatically reload any modules that are loaded from file."
   ]
  },
  {
   "cell_type": "markdown",
   "metadata": {},
   "source": [
    "First, let's create a bunch of character identifier functions. If you have a character, pass it into any or all of these functions to find out what it is, or isn't."
   ]
  },
  {
   "cell_type": "code",
   "execution_count": 3,
   "metadata": {
    "collapsed": false
   },
   "outputs": [],
   "source": [
    "def is_char(character):\n",
    "    \"\"\"\n",
    "    Returns True if the character passed in is a letter,\n",
    "    False otherwise. \n",
    "    \n",
    "    Uses ASCII code points to determine what range a character is in.\n",
    "    \"\"\"\n",
    "    if ord(character) >= 65 and ord(character) <= 90:\n",
    "        return True\n",
    "    elif ord(character) >= 97 and ord(character) <= 122:\n",
    "        return True\n",
    "    else:\n",
    "        return False\n",
    "    \n",
    "\n",
    "def is_digit(character):\n",
    "    \"\"\"\n",
    "    Returns True if the character passed in is a digit,\n",
    "    False otherwise. \n",
    "    \n",
    "    Uses ASCII code points to determine what range a character is in.\n",
    "    \"\"\"\n",
    "    if ord(character) >= 48 and ord(character) <= 57:\n",
    "        return True\n",
    "    else:\n",
    "        return False\n",
    "    \n",
    "\n",
    "def is_whitespace(character):\n",
    "    \"\"\"\n",
    "    Returns True if the character passed in is white space\n",
    "    (space, tab),\n",
    "    False otherwise. \n",
    "    \n",
    "    Uses ASCII code points to determine what range a character is in.\n",
    "    \"\"\"\n",
    "    if ord(character) == 32 or ord(character) <= 9:\n",
    "        return True\n",
    "    else:\n",
    "        return False\n",
    "    \n",
    "    "
   ]
  },
  {
   "cell_type": "code",
   "execution_count": 4,
   "metadata": {
    "collapsed": false
   },
   "outputs": [
    {
     "data": {
      "text/plain": [
       "True"
      ]
     },
     "execution_count": 4,
     "metadata": {},
     "output_type": "execute_result"
    }
   ],
   "source": [
    "is_whitespace(' ')"
   ]
  },
  {
   "cell_type": "code",
   "execution_count": 5,
   "metadata": {
    "collapsed": false
   },
   "outputs": [
    {
     "data": {
      "text/plain": [
       "True"
      ]
     },
     "execution_count": 5,
     "metadata": {},
     "output_type": "execute_result"
    }
   ],
   "source": [
    "is_whitespace(' ')"
   ]
  },
  {
   "cell_type": "code",
   "execution_count": 6,
   "metadata": {
    "collapsed": false
   },
   "outputs": [],
   "source": [
    "import unittest\n",
    "\n",
    "class TestCharacterClassFunctions(unittest.TestCase):\n",
    "    \n",
    "    def testLetter(self):\n",
    "        self.assertTrue(is_char('a'))\n",
    "        self.assertFalse(is_char('*'))\n",
    "        print(\"letters work\")\n",
    "    \n",
    "    def testDigit(self):\n",
    "        self.assertTrue(is_digit('0'))\n",
    "        self.assertFalse(is_digit('*'))\n",
    "        print(\"numbers work\")\n",
    "    \n",
    "    def testWhitespace(self):\n",
    "        self.assertTrue(is_whitespace('\\t'))\n",
    "        self.assertTrue(is_whitespace(' '))\n",
    "        self.assertFalse(is_whitespace('*'))\n",
    "        print(\"whitespace work\")\n",
    "    \n",
    "    def run(self):\n",
    "        self.testLetter()\n",
    "        self.testDigit()\n",
    "        self.testWhitespace()\n"
   ]
  },
  {
   "cell_type": "code",
   "execution_count": 7,
   "metadata": {
    "collapsed": false
   },
   "outputs": [
    {
     "name": "stdout",
     "output_type": "stream",
     "text": [
      "letters work\n",
      "numbers work\n",
      "whitespace work\n"
     ]
    }
   ],
   "source": [
    "x = TestCharacterClassFunctions()\n",
    "x.run()"
   ]
  },
  {
   "cell_type": "markdown",
   "metadata": {
    "nbpresent": {
     "id": "f0bb925c-41e4-45d6-b1c8-b80ded37cf4b"
    }
   },
   "source": [
    " Read the text from an external file. "
   ]
  },
  {
   "cell_type": "code",
   "execution_count": 8,
   "metadata": {
    "collapsed": false,
    "nbpresent": {
     "id": "49b7cc6e-b548-4977-86ff-875ac604eb6c"
    },
    "scrolled": true
   },
   "outputs": [
    {
     "ename": "LookupError",
     "evalue": "unknown encoding: ",
     "output_type": "error",
     "traceback": [
      "\u001b[0;31m---------------------------------------------------------------------------\u001b[0m",
      "\u001b[0;31mLookupError\u001b[0m                               Traceback (most recent call last)",
      "\u001b[0;32m<ipython-input-8-43419f9995f6>\u001b[0m in \u001b[0;36m<module>\u001b[0;34m()\u001b[0m\n\u001b[0;32m----> 1\u001b[0;31m \u001b[0mwindatafile\u001b[0m \u001b[0;34m=\u001b[0m \u001b[0mopen\u001b[0m\u001b[0;34m(\u001b[0m\u001b[0;34m'windata.txt'\u001b[0m\u001b[0;34m,\u001b[0m \u001b[0mmode\u001b[0m\u001b[0;34m=\u001b[0m\u001b[0;34m'r'\u001b[0m\u001b[0;34m,\u001b[0m \u001b[0mencoding\u001b[0m\u001b[0;34m=\u001b[0m\u001b[0;34m''\u001b[0m\u001b[0;34m)\u001b[0m\u001b[0;34m\u001b[0m\u001b[0m\n\u001b[0m\u001b[1;32m      2\u001b[0m \u001b[0;34m\u001b[0m\u001b[0m\n\u001b[1;32m      3\u001b[0m \u001b[0;32mfor\u001b[0m \u001b[0mline\u001b[0m \u001b[0;32min\u001b[0m \u001b[0mwindatafile\u001b[0m\u001b[0;34m:\u001b[0m\u001b[0;34m\u001b[0m\u001b[0m\n\u001b[1;32m      4\u001b[0m     \u001b[0mprint\u001b[0m\u001b[0;34m(\u001b[0m\u001b[0mline\u001b[0m\u001b[0;34m,\u001b[0m \u001b[0mend\u001b[0m\u001b[0;34m=\u001b[0m\u001b[0;34m''\u001b[0m\u001b[0;34m)\u001b[0m\u001b[0;34m\u001b[0m\u001b[0m\n",
      "\u001b[0;31mLookupError\u001b[0m: unknown encoding: "
     ]
    }
   ],
   "source": [
    "windatafile = open('windata.txt', mode='r', encoding='')\n",
    "\n",
    "for line in windatafile:\n",
    "    print(line, end='')"
   ]
  },
  {
   "cell_type": "code",
   "execution_count": null,
   "metadata": {
    "collapsed": false,
    "nbpresent": {
     "id": "97c89112-2004-4500-8184-e44a193a7775"
    }
   },
   "outputs": [],
   "source": [
    "datafile = open('data.txt', mode='r', encoding='utf-8')\n",
    "\n",
    "for line in datafile:\n",
    "    print(line, end='')"
   ]
  },
  {
   "cell_type": "code",
   "execution_count": null,
   "metadata": {
    "collapsed": false,
    "nbpresent": {
     "id": "853684cb-7014-4b01-bc5f-5410d2ee50bc"
    }
   },
   "outputs": [],
   "source": [
    "help(is_digit)"
   ]
  },
  {
   "cell_type": "code",
   "execution_count": null,
   "metadata": {
    "collapsed": false
   },
   "outputs": [],
   "source": [
    "type(datafile)"
   ]
  },
  {
   "cell_type": "code",
   "execution_count": null,
   "metadata": {
    "collapsed": false
   },
   "outputs": [],
   "source": [
    "help(is_whitespace)"
   ]
  },
  {
   "cell_type": "code",
   "execution_count": null,
   "metadata": {
    "collapsed": false
   },
   "outputs": [],
   "source": [
    "def is_operator(chars):\n",
    "    if chars == \"<<\":\n",
    "        return True\n",
    "    elif chars == \"+=\":\n",
    "        return True\n",
    "    elif chars == \"=\":\n",
    "        return True\n",
    "    else:\n",
    "        return False"
   ]
  },
  {
   "cell_type": "code",
   "execution_count": null,
   "metadata": {
    "collapsed": false
   },
   "outputs": [],
   "source": [
    "is_operator(\"<<\")"
   ]
  },
  {
   "cell_type": "code",
   "execution_count": null,
   "metadata": {
    "collapsed": false
   },
   "outputs": [],
   "source": [
    "datafile = open('data_bom.txt', mode='r', encoding='utf-8')\n",
    "\n",
    "for line in datafile:\n",
    "    print(line, end='')"
   ]
  },
  {
   "cell_type": "markdown",
   "metadata": {},
   "source": [
    "## Overview:\n",
    "\n",
    "This is a state machine with six states, an input stream, an output stream, and a 'temporary' queue.\n",
    "\n"
   ]
  },
  {
   "cell_type": "markdown",
   "metadata": {},
   "source": [
    "#### String Storage\n",
    "Temporary and permanent character storage (files and queues) are in single quotes, and include:\n",
    "* 'input' file\n",
    "* 'output' file\n",
    "* 'temporary' queue\n",
    "\n"
   ]
  },
  {
   "cell_type": "markdown",
   "metadata": {},
   "source": [
    "#### Character Classes\n",
    "Single characters are grouped into character classes, like digits (numbers), alphabetic characters (letters), whitespace characters (spaces and tabs), other characters that can be, either alone or in groups, an operator, assignment, or line-terminating character, newline characters, and the forward slash character that, when paired with no whitespace, indicates a comment.\n",
    "These classes are shown inside less-than/greater-than pairs. Classes indented from another class are a subset of that class:\n",
    "* < code >\n",
    "  * < alpha >\n",
    "  * < digit >\n",
    "  * < operator >\n",
    "  * < assignment >\n",
    "  * < terminator >\n",
    "* < whitespace >\n",
    "  * < space >\n",
    "  * < tab >\n",
    "* < slash >\n",
    "* < newline >\n",
    "  * < carriage return >\n",
    "  * < line feed >\n",
    "\n"
   ]
  },
  {
   "cell_type": "markdown",
   "metadata": {},
   "source": [
    "#### Machine States\n",
    "The states of the state machine are shown in ALL CAPS:\n",
    "* START\n",
    "* SPACE\n",
    "* COMMENT\n",
    "* FLUSHLINE\n",
    "* ENDLINE\n",
    "* TOKEN"
   ]
  },
  {
   "cell_type": "markdown",
   "metadata": {},
   "source": [
    "# Setup\n",
    "Steps that must be taken before the state machine begins work:\n",
    "* create empty 'temporary' queue\n",
    "* create an 'output' stream\n",
    "* open 'input' file for reading\n",
    "* set machine to START state"
   ]
  },
  {
   "cell_type": "markdown",
   "metadata": {},
   "source": [
    "## START state\n",
    "  * read a char from 'input'\n",
    "  * if char is < whitespace >:\n",
    "    * replace char with \" \" // a literal space, to replace any tabs or other potential whitespace chars\n",
    "    * push char to 'temporary' queue // push to queue right away or keep in a single-char temp variable?\n",
    "    * switch to SPACE state\n",
    "  * if char is < slash >, switch to COMMENT state\n",
    "  * if char is < newline >, switch to ENDLINE state\n",
    "  * if char is < code >, switch to TOKEN state"
   ]
  },
  {
   "cell_type": "markdown",
   "metadata": {},
   "source": [
    "## SPACE state\n",
    "  * read char from 'input'\n",
    "  * if char is < slash >:\n",
    "    * push char to 'temporary' queue\n",
    "    * switch to COMMENT state\n",
    "  * if char is < code >:\n",
    "    * write 'temporary' to 'output' file\n",
    "    * clear all elements of 'temporary'\n",
    "    * push char to 'temporary' queue\n",
    "    * switch to TOKEN state\n",
    "  * if char is < newline >:\n",
    "    * clear all elements of 'temporary'\n",
    "    * push char to 'temporary' queue\n",
    "    * switch to ENDLINE state\n",
    "  * if char is < whitespace >, stay in SPACE state // don't push. Only want EXACTLY one space\n",
    "\n"
   ]
  },
  {
   "cell_type": "markdown",
   "metadata": {},
   "source": [
    "## TOKEN state\n",
    "  * read char from 'input'\n",
    "  * if char is < code >:\n",
    "    * push char to 'temporary' queue\n",
    "    * stay in TOKEN state\n",
    "  * if char is < whitespace >:\n",
    "    * write 'temporary' to 'output' file\n",
    "    * clear all elements of 'temporary'\n",
    "    * push \" \" to 'temporary' queue\n",
    "    * switch to SPACE state\n",
    "  * if char is < comment >:\n",
    "    * write 'temporary' to 'output' file\n",
    "    * clear all elements of 'temporary'\n",
    "    * push char to 'temporary' queue\n",
    "    * switch to COMMENT state\n",
    "  * if char is < newline >:\n",
    "    * write 'temporary' to 'output' file\n",
    "    * clear all elements of 'temporary'\n",
    "    * push char to 'temporary' queue\n",
    "    * switch to ENDLINE state\n",
    "\n"
   ]
  },
  {
   "cell_type": "markdown",
   "metadata": {},
   "source": [
    "## COMMENT state \n",
    "// this state is entered on the FIRST slash char: should exit state in one char\n",
    "  * read char from 'input'\n",
    "  * if char is < slash >:\n",
    "    * clear all elements of 'temporary'\n",
    "    * switch to FLUSHLINE state\n",
    "  * if char is < space >:\n",
    "    * write 'temporary' to 'output' file\n",
    "    * clear all elements of 'temporary'\n",
    "    * push \" \" to 'temporary' queue\n",
    "    * switch to SPACE state\n",
    "  * if char is < code >:\n",
    "    * write 'temporary' to 'output' file // this is an edge case of a single slash\n",
    "    * clear all elements of 'temporary'\n",
    "    * push char to 'temporary' queue\n",
    "    * switch to TOKEN state\n",
    "  * if char is < newline >:\n",
    "    * write 'temporary' to 'output' file // this is an edge case of a single slash\n",
    "    * clear all elements of 'temporary'\n",
    "    * push char to 'temporary' queue\n",
    "    * switch to ENDLINE state  \n"
   ]
  },
  {
   "cell_type": "markdown",
   "metadata": {},
   "source": [
    "## FLUSHLINE state  \n",
    "// only entered when double-slash comment is found\n",
    "  * read char from 'input'\n",
    "  * if char is < newline >:\n",
    "    * push char to 'temporary' queue\n",
    "    * switch to ENDLINE state\n",
    "  * else:\n",
    "    stay in FLUSHLINE state\n",
    "\n"
   ]
  },
  {
   "cell_type": "markdown",
   "metadata": {},
   "source": [
    "## ENDLINE state\n",
    "  * if last char in 'temporary' queue is `\\r` (carriage return): // Windows line-ending\n",
    "    * read char from 'input'\n",
    "    * if it's `\\n`: (line feed):\n",
    "      * write < carriage return > to 'output' file\n",
    "      * write < line feed > to 'output' file\n",
    "      * clear all elements of 'temporary' queue\n",
    "      * switch to START state\n",
    "    * else:\n",
    "      * signal an ERROR // this line ending is malformed.\n",
    "  * else:\n",
    "    * write < line feed > to 'output' file\n",
    "    * clear all elements of 'temporary'\n",
    "    * switch to START state\n"
   ]
  },
  {
   "cell_type": "markdown",
   "metadata": {},
   "source": [
    "A little test on `tempqueue`, which is a list (or array). The last element of the list is available by the slice `[-1:]`, which is helpful to know."
   ]
  },
  {
   "cell_type": "code",
   "execution_count": null,
   "metadata": {
    "collapsed": true
   },
   "outputs": [],
   "source": [
    "tempqueue = [ 'a', 'b', 'c', '=']"
   ]
  },
  {
   "cell_type": "code",
   "execution_count": null,
   "metadata": {
    "collapsed": false
   },
   "outputs": [],
   "source": [
    "tempqueue[-1:]"
   ]
  },
  {
   "cell_type": "code",
   "execution_count": null,
   "metadata": {
    "collapsed": true
   },
   "outputs": [],
   "source": [
    "tempqueue.append('$')"
   ]
  },
  {
   "cell_type": "code",
   "execution_count": null,
   "metadata": {
    "collapsed": false
   },
   "outputs": [],
   "source": [
    "tempqueue[-1:]"
   ]
  },
  {
   "cell_type": "markdown",
   "metadata": {
    "collapsed": true
   },
   "source": [
    "This is only *an outline* of the plan"
   ]
  },
  {
   "cell_type": "code",
   "execution_count": null,
   "metadata": {
    "collapsed": true
   },
   "outputs": [],
   "source": []
  }
 ],
 "metadata": {
  "anaconda-cloud": {},
  "kernelspec": {
   "display_name": "Python [Root]",
   "language": "python",
   "name": "Python [Root]"
  },
  "language_info": {
   "codemirror_mode": {
    "name": "ipython",
    "version": 3
   },
   "file_extension": ".py",
   "mimetype": "text/x-python",
   "name": "python",
   "nbconvert_exporter": "python",
   "pygments_lexer": "ipython3",
   "version": "3.5.2"
  },
  "nbpresent": {
   "slides": {
    "4776228e-7702-43cf-9d9c-ee2ee61e4b05": {
     "id": "4776228e-7702-43cf-9d9c-ee2ee61e4b05",
     "prev": "ddf438fb-23dc-46a3-bcdf-eef5d0ae2a26",
     "regions": {
      "c9cfa078-ddef-49aa-8055-86e672e0e84c": {
       "attrs": {
        "height": 0.8,
        "width": 0.8,
        "x": 0.1,
        "y": 0.1
       },
       "content": {
        "cell": "97c89112-2004-4500-8184-e44a193a7775",
        "part": "whole"
       },
       "id": "c9cfa078-ddef-49aa-8055-86e672e0e84c"
      }
     }
    },
    "5083fde8-ab34-48b2-a0fc-d2134a6f2ab9": {
     "id": "5083fde8-ab34-48b2-a0fc-d2134a6f2ab9",
     "prev": "4776228e-7702-43cf-9d9c-ee2ee61e4b05",
     "regions": {
      "f0e8a040-8c28-437e-8b1b-070231277e6d": {
       "attrs": {
        "height": 0.8,
        "width": 0.8,
        "x": 0.1,
        "y": 0.1
       },
       "content": {
        "cell": "853684cb-7014-4b01-bc5f-5410d2ee50bc",
        "part": "whole"
       },
       "id": "f0e8a040-8c28-437e-8b1b-070231277e6d"
      }
     }
    },
    "a31d8b8a-d7d4-42ac-813c-f618c81fcaa6": {
     "id": "a31d8b8a-d7d4-42ac-813c-f618c81fcaa6",
     "prev": null,
     "regions": {
      "7a032eca-cb7a-4e52-9c51-230b21089a50": {
       "attrs": {
        "height": 0.8,
        "width": 0.8,
        "x": 0.1,
        "y": 0.1
       },
       "content": {
        "cell": "a76e6382-55b8-4180-8e0d-046e7c4ac750",
        "part": "source"
       },
       "id": "7a032eca-cb7a-4e52-9c51-230b21089a50"
      }
     }
    },
    "d5bf9b60-06f8-48a6-84d0-897b426c8a24": {
     "id": "d5bf9b60-06f8-48a6-84d0-897b426c8a24",
     "prev": "a31d8b8a-d7d4-42ac-813c-f618c81fcaa6",
     "regions": {
      "f117ee1b-fce1-4f96-a9b3-2a9247dc46ed": {
       "attrs": {
        "height": 0.8,
        "width": 0.8,
        "x": 0.1,
        "y": 0.1
       },
       "content": {
        "cell": "49b7cc6e-b548-4977-86ff-875ac604eb6c",
        "part": "source"
       },
       "id": "f117ee1b-fce1-4f96-a9b3-2a9247dc46ed"
      }
     }
    },
    "ddf438fb-23dc-46a3-bcdf-eef5d0ae2a26": {
     "id": "ddf438fb-23dc-46a3-bcdf-eef5d0ae2a26",
     "prev": "d5bf9b60-06f8-48a6-84d0-897b426c8a24",
     "regions": {
      "44f5d758-66db-4075-9765-94cd273d63a9": {
       "attrs": {
        "height": 0.8,
        "width": 0.8,
        "x": 0.1,
        "y": 0.1
       },
       "content": {
        "cell": "49b7cc6e-b548-4977-86ff-875ac604eb6c",
        "part": "whole"
       },
       "id": "44f5d758-66db-4075-9765-94cd273d63a9"
      }
     }
    }
   },
   "themes": {}
  }
 },
 "nbformat": 4,
 "nbformat_minor": 0
}
