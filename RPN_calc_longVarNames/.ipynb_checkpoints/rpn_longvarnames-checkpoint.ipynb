{
 "cells": [
  {
   "cell_type": "code",
   "execution_count": null,
   "metadata": {
    "collapsed": true
   },
   "outputs": [],
   "source": [
    "%load_ext autoreload\n",
    "%autoreload 2\n",
    "\n",
    "# These directives will automatically reload any modules that are loaded from file."
   ]
  },
  {
   "cell_type": "markdown",
   "metadata": {},
   "source": [
    "# Assignment No.2\n",
    "## CPSC 323\n",
    "\n",
    "### Team Members:\n",
    "* Maziar Bastani\n",
    "* Cody Broxton\n",
    "* Daniel Henderson\n",
    "\n",
    "## Programming assignment\n",
    "\n",
    "Write a program to read a postfix expression and compute its value. Variablse are strings of **one or more characters** and numbers are **one or more digits**. All tokens are separated with a **single space**."
   ]
  },
  {
   "cell_type": "markdown",
   "metadata": {},
   "source": [
    "### Sample I/O\n",
    "\n",
    "```\n",
    "Enter a postfix expression: ab 22 * c + $\n",
    "     Enter the value of ab: 2\n",
    "     Enter the value of c: 4\n",
    "         Final value= 48\n",
    "     \n",
    "     Continue(y/n)? y\n",
    "Enter a postfix expression: jerry 123 + tom * - $\n",
    "     Enter the value of tom: 2\n",
    "     Enter the value of jerry: 3\n",
    "         Final value= -250\n",
    "     \n",
    "     Continue(y/n)? n\n",
    "```"
   ]
  },
  {
   "cell_type": "code",
   "execution_count": 2,
   "metadata": {
    "collapsed": false
   },
   "outputs": [],
   "source": [
    "#!/usr/bin/env python3\n",
    "#\n",
    "\n",
    "import operator\n",
    "\n",
    "# declare globals\n",
    "def setup():\n",
    "    # tokens is a dict (dictionary, associative array)\n",
    "    # that holds:\n",
    "    #   variable names\n",
    "    #   \n",
    "    # and status about those tokens.\n",
    "    global tokens\n",
    "    tokens = {}\n",
    "    tokens.clear()\n",
    "    # token_counter just supplies an ordinal number\n",
    "    # to variable names as they're declared in the RPN calculator\n",
    "    # so the user interface can ask the user for their values \n",
    "    # in that same order.\n",
    "    global token_counter\n",
    "    token_counter = 1\n",
    "    global user_string\n",
    "    user_string = ''\n",
    "    # user_string is the RPN equation the user enters as input\n",
    "    global value_stack\n",
    "    value_stack = []\n",
    "    # value_stack is the RPN calculator's computation stack.\n",
    "    #\n",
    "\n",
    "    \n"
   ]
  },
  {
   "cell_type": "markdown",
   "metadata": {},
   "source": [
    "For the Reverse Polish Notation, or RPN, calculator, a single string is entered by the user. This string should represent a valid RPN sequence of numbers and operations, terminated by a *$* (dollar sign). Numbers may be literal integers like *22* and *100*, or variable names that represent an integer. \n",
    "\n",
    "Operations required by the assignment are:\n",
    "* + (addition)\n",
    "* - (subtraction)\n",
    "* * (multiplication)\n",
    "\n",
    "Operations additionally implemented for our fun are:\n",
    "* / (division)\n",
    "* ^ (exponent)\n",
    "\n",
    "These additional operators will require additional logic, since they will require floating point, rather than integer, numbers.\n",
    "\n",
    "Each of these operators is binary, in that they take two operands. Addition, like **2 + 2** in _infix notation_, requires two operands. The operand on the right will be operated on (added to) using the operand on the left. A result of **4** will be the result of the addition operation. _Postfix notation_ does not change the need for two operands for each binary operator. In postfix notation and rpn, the operands come first, though, followed by the operation to perform: **2 2 +**. The result is, of course, the same. \n",
    "\n",
    "The benefit of postfix and rpn is that the order of operations in more complicated or chained equations requires no parentheses or grouping symbols. The infix equation **3 + 2 * 2** uses the rules of precedence to get the answer **7** or requires grouping symbols to perform the addition first, then the multiplication: **(3 + 2) * 2** to get the answer **10**. The postfix expression ** 3 2 + 2 * ** puts the 3 and 2 operands first, then the addition operation. This clearly indicates (after some experience with seeing it) that the addition of the first two numbers is performed first, then _that_ result is multiplied by 2. If multiplication of two and two is really desired first, the expression ** 2 2 * 3 + ** accomlishes this.\n",
    "\n",
    "The result of this is that, just like ** 2 + ** isn't a valid expression with infix, neither is ** 2 + ** valid in postfix. While you can see, in an infix equation, whether every binary operator has two numbers or expressions, one on the left and one on the right, it takes a bit of practice to see when a postfix expression doesn't have enough operands. However, if an expression has two operands before an operator, and continues to have one more operand to the left than there are operators, the expression is valid.\n",
    "\n",
    "Some valid expressions:\n",
    "* 2 2 + 3 +    -- three operands, two operators\n",
    "* 2 2 2 2 + + +   -- four operands, three operators\n",
    "* 3 2 4 +         -- three operands, one operator. The 3 is never used. Only the 2 and 4 are added together.\n",
    "\n",
    "But this is invalid:\n",
    "* 2 + 2 2 +  -- the leftmost addition has only one operand to work with\n"
   ]
  },
  {
   "cell_type": "code",
   "execution_count": null,
   "metadata": {
    "collapsed": true
   },
   "outputs": [],
   "source": [
    "def run(debug=False):\n",
    "    global show_debug\n",
    "    show_debug = debug\n",
    "    # Python equivalent of do-while loop\n",
    "    while True:\n",
    "        setup()    \n",
    "#         user_input_pass()\n",
    "#         assign_values()\n",
    "#         compute()\n",
    "#         show_result()\n",
    "        if input(\"Continue(y/n)? \") != 'y':\n",
    "            break\n",
    "\n",
    "            \n",
    "def main():\n",
    "    if input(\"run in debug mode? \") != 'y':\n",
    "        run()\n",
    "    else:\n",
    "        run(True)\n",
    "\n",
    "if __name__ == '__main__':\n",
    "    main()"
   ]
  },
  {
   "cell_type": "code",
   "execution_count": null,
   "metadata": {
    "collapsed": true
   },
   "outputs": [],
   "source": []
  }
 ],
 "metadata": {
  "anaconda-cloud": {},
  "kernelspec": {
   "display_name": "Python [Root]",
   "language": "python",
   "name": "Python [Root]"
  },
  "language_info": {
   "codemirror_mode": {
    "name": "ipython",
    "version": 3
   },
   "file_extension": ".py",
   "mimetype": "text/x-python",
   "name": "python",
   "nbconvert_exporter": "python",
   "pygments_lexer": "ipython3",
   "version": "3.5.2"
  }
 },
 "nbformat": 4,
 "nbformat_minor": 0
}
