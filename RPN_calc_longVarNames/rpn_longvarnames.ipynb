{
 "cells": [
  {
   "cell_type": "code",
   "execution_count": 6,
   "metadata": {
    "collapsed": false
   },
   "outputs": [
    {
     "name": "stdout",
     "output_type": "stream",
     "text": [
      "The autoreload extension is already loaded. To reload it, use:\n",
      "  %reload_ext autoreload\n"
     ]
    }
   ],
   "source": [
    "%load_ext autoreload\n",
    "%autoreload 2\n",
    "\n",
    "# These directives will automatically reload any modules that are loaded from file."
   ]
  },
  {
   "cell_type": "markdown",
   "metadata": {},
   "source": [
    "# Assignment No.2\n",
    "## CPSC 323\n",
    "\n",
    "### Team Members:\n",
    "* Maziar Bastani\n",
    "* Cody Broxton\n",
    "* Daniel Henderson\n",
    "\n",
    "## Programming assignment\n",
    "\n",
    "Write a program to read a postfix expression and compute its value. Variablse are strings of **one or more characters** and numbers are **one or more digits**. All tokens are separated with a **single space**."
   ]
  },
  {
   "cell_type": "markdown",
   "metadata": {},
   "source": [
    "### Sample I/O\n",
    "\n",
    "```\n",
    "Enter a postfix expression: ab 22 * c + $\n",
    "     Enter the value of ab: 2\n",
    "     Enter the value of c: 4\n",
    "         Final value= 48\n",
    "     \n",
    "     Continue(y/n)? y\n",
    "Enter a postfix expression: jerry 123 + tom * - $\n",
    "     Enter the value of tom: 2\n",
    "     Enter the value of jerry: 3\n",
    "         Final value= -250\n",
    "     \n",
    "     Continue(y/n)? n\n",
    "```"
   ]
  },
  {
   "cell_type": "code",
   "execution_count": 7,
   "metadata": {
    "collapsed": true
   },
   "outputs": [],
   "source": [
    "# To run this program in a regular terminal, export the entire notebook using the commands in the web interface:\n",
    "# File > Download as > Python(.py)\n",
    "# Move the file to your preferred location from the Downloads folder.\n",
    "# Remove all the text above this cell, and the text in this cell, using your text editor.\n",
    "# The first line of your 'fixed' program should be the \"shebang\" comment below this line. (#!/usr/bin/env python3)"
   ]
  },
  {
   "cell_type": "code",
   "execution_count": 8,
   "metadata": {
    "collapsed": false
   },
   "outputs": [],
   "source": [
    "#!/usr/bin/env python3\n",
    "#\n",
    "\n",
    "import operator\n",
    "\n",
    "# declare globals\n",
    "def setup():\n",
    "    # tokens is a dict (dictionary, associative array)\n",
    "    # that holds:\n",
    "    #   variable names\n",
    "    #   \n",
    "    # and status about those tokens.\n",
    "    global tokens\n",
    "    tokens = {}\n",
    "    tokens.clear()\n",
    "    # token_counter just supplies an ordinal number\n",
    "    # to variable names as they're declared in the RPN calculator\n",
    "    # so the user interface can ask the user for their values \n",
    "    # in that same order.\n",
    "    global token_counter\n",
    "    token_counter = 1\n",
    "    global user_string\n",
    "    user_string = ''\n",
    "    # user_string is the RPN equation the user enters as input\n",
    "    global value_stack\n",
    "    value_stack = []\n",
    "    # value_stack is the RPN calculator's computation stack.\n",
    "    #\n",
    "\n",
    "    \n"
   ]
  },
  {
   "cell_type": "markdown",
   "metadata": {},
   "source": [
    "For the Reverse Polish Notation, or RPN, calculator, a single string is entered by the user. This string should represent a valid RPN sequence of numbers and operations, terminated by a *$* (dollar sign). Numbers may be literal integers like *22* and *100*, or variable names that represent an integer. \n",
    "\n",
    "Operations required by the assignment are:\n",
    "* + (addition)\n",
    "* - (subtraction)\n",
    "* * (multiplication)\n",
    "\n",
    "Operations additionally implemented for our fun are:\n",
    "* / (division)\n",
    "* ^ (exponent)\n",
    "\n",
    "These additional operators will require additional logic, since they will require floating point, rather than integer, numbers.\n",
    "\n",
    "Each of these operators is binary, in that they take two operands. Addition, like **2 + 2** in _infix notation_, requires two operands. The operand on the right will be operated on (added to) using the operand on the left. A result of **4** will be the result of the addition operation. _Postfix notation_ does not change the need for two operands for each binary operator. In postfix notation and rpn, the operands come first, though, followed by the operation to perform: **2 2 +**. The result is, of course, the same. \n",
    "\n",
    "The benefit of postfix and rpn is that the order of operations in more complicated or chained equations requires no parentheses or grouping symbols. The infix equation **3 + 2 * 2** uses the rules of precedence to get the answer **7** or requires grouping symbols to perform the addition first, then the multiplication: **(3 + 2) * 2** to get the answer **10**. The postfix expression ** 3 2 + 2 * ** puts the 3 and 2 operands first, then the addition operation. This clearly indicates (after some experience with seeing it) that the addition of the first two numbers is performed first, then _that_ result is multiplied by 2. If multiplication of two and two is really desired first, the expression ** 2 2 * 3 + ** accomlishes this.\n",
    "\n",
    "The result of this is that, just like ** 2 + ** isn't a valid expression with infix, neither is ** 2 + ** valid in postfix. While you can see, in an infix equation, whether every binary operator has two numbers or expressions, one on the left and one on the right, it takes a bit of practice to see when a postfix expression doesn't have enough operands. However, if an expression has two operands before an operator, and continues to have one more operand to the left than there are operators, the expression is valid.\n",
    "\n",
    "Some valid expressions:\n",
    "* 2 2 + 3 +    -- three operands, two operators\n",
    "* 2 2 2 2 + + +   -- four operands, three operators\n",
    "* 3 2 4 +         -- three operands, one operator. The 3 is never used. Only the 2 and 4 are added together.\n",
    "\n",
    "But this is invalid:\n",
    "* 2 + 2 2 +  -- the leftmost addition has only one operand to work with\n"
   ]
  },
  {
   "cell_type": "markdown",
   "metadata": {},
   "source": [
    "The main run loop `run()` calls each step of the RPN parser. For debugging info, it can be called with the value `True`, which functions can check for and display more debugging info.\n",
    "\n",
    "The `main()` function is the traditional entry point when a python program is run from the comand line. \n",
    "\n",
    "The two lines\n",
    "```\n",
    "if __name__ == '__main__':\n",
    "    main()\n",
    "```\n",
    "are a test for a flag the python interpreter can use to see if the file invoked from the command line has a main function. If it does, that function is called. Otherwise, as is the case when a file is `import`ed, the file has a main function, but it's **not** the file the user has run, so the main function is not run.\n",
    "\n",
    "This lets developers test a smaller project file and run its `main()` function with user input or other commands, but also import it as a module into larger projects as a collection of useful methods, without having the test user input run. \n",
    "\n",
    "As an example, this code may work very well as an RPN calculator, and we can test that by asking the user to enter an expression. Later, we may want a larger project to evaluate expressions using its user interface, meeting its specific needs. We **don't** need our RPN code to halt in the middle and ask the user to enter a string. We only want the **under-the-hood** objects and methods, not the basic text entry and reporting we have in our simpler test code. By not running `main()`, which calls the UI elements, we can use all the rest without the UI."
   ]
  },
  {
   "cell_type": "code",
   "execution_count": 9,
   "metadata": {
    "collapsed": true
   },
   "outputs": [],
   "source": [
    "def tokenize(string):\n",
    "    operands = 0\n",
    "    if len(string) == 0:\n",
    "        return 'done'\n",
    "    for s in string:\n",
    "        if s.isalpha():\n",
    "            add_token(s)\n",
    "            operands += 1\n",
    "        elif s in ('+', '-', '*', '/'):\n",
    "            # binary operators take two operands\n",
    "            # see if there are enough operands\n",
    "            if operands < 2:\n",
    "                print(\"error out. not enough operands\")\n",
    "                return('error')\n",
    "            else:\n",
    "                # remove operand, since result will be pushed as new operand\n",
    "                operands -= 1\n",
    "        elif s in ('$'):\n",
    "            return 'done'\n",
    "        elif s.isspace():\n",
    "            pass\n",
    "        else:\n",
    "            print('illegal character reached')\n",
    "            return('error')\n",
    "            \n"
   ]
  },
  {
   "cell_type": "code",
   "execution_count": 10,
   "metadata": {
    "collapsed": true
   },
   "outputs": [],
   "source": [
    "def add_token(character):\n",
    "    global token_counter, tokens\n",
    "    if character not in tokens:\n",
    "        tokens[character] = [token_counter, 0]\n",
    "        token_counter += 1\n"
   ]
  },
  {
   "cell_type": "code",
   "execution_count": 11,
   "metadata": {
    "collapsed": true
   },
   "outputs": [],
   "source": [
    "def user_input_pass():\n",
    "    global show_debug\n",
    "    global tokens,  user_string\n",
    "    user_string = input('Enter a postscript expression with a $ at the end: ')\n",
    "    if tokenize(user_string) == 'done':\n",
    "        if show_debug:\n",
    "            print(tokens)\n",
    "            print('tokenized successfully')\n",
    "    else:\n",
    "        print('tokenizer error')\n",
    "    # assign_values()\n"
   ]
  },
  {
   "cell_type": "code",
   "execution_count": 12,
   "metadata": {
    "collapsed": true
   },
   "outputs": [],
   "source": [
    "def assign_values():\n",
    "    global show_debug\n",
    "    global tokens\n",
    "    sorted_tokens = sorted(tokens.items(), key=operator.itemgetter(1))\n",
    "    for variable in sorted_tokens:\n",
    "        keyval = variable[0]\n",
    "        varval = input('Enter value of ' + keyval + ': ')\n",
    "        # should error out if can't convert to a float\n",
    "        tokens[keyval][1] = float(varval)\n",
    "    if show_debug:\n",
    "        print(\"Token dictionary:\")\n",
    "        print(tokens)\n",
    "        print(\"Sorted tokens:\")\n",
    "        print(sorted_tokens)\n"
   ]
  },
  {
   "cell_type": "code",
   "execution_count": 13,
   "metadata": {
    "collapsed": true
   },
   "outputs": [],
   "source": [
    "def compute():\n",
    "    global tokens, user_string, value_stack\n",
    "    for char in user_string:\n",
    "        if char.isalpha():\n",
    "            value_stack.append(tokens[char][1])\n",
    "        if char in ('+', '-', '*', '/'):\n",
    "            # binary operators\n",
    "            # check that stack can handle\n",
    "            if len(value_stack) > 1:\n",
    "                B = value_stack.pop()\n",
    "                A = value_stack.pop()\n",
    "                if char == '+':\n",
    "                    value_stack.append(A + B)\n",
    "                elif char == '-':\n",
    "                    value_stack.append(A - B)\n",
    "                elif char == '*':\n",
    "                    value_stack.append(A * B)\n",
    "                elif char == '/':\n",
    "                    if B == 0:\n",
    "                        print('error. Divide by zero.')\n",
    "                        value_stack.append(float('NaN'))\n",
    "                        return('error')\n",
    "                    value_stack.append(A / B)\n",
    "                elif char.isspace():\n",
    "                    pass\n",
    "                else:\n",
    "                    print(\"Unimplemented binary operator. Calculations will be wrong\")\n",
    "                    value_stack.append(A)\n",
    "            else:\n",
    "                print('Error: Stack underflow.')\n",
    "                return('error')\n"
   ]
  },
  {
   "cell_type": "code",
   "execution_count": 14,
   "metadata": {
    "collapsed": true
   },
   "outputs": [],
   "source": [
    "def show_result():\n",
    "    global show_debug\n",
    "    global value_stack, tokens, value_stack\n",
    "    if show_debug:\n",
    "        print(tokens)\n",
    "        print(value_stack)\n",
    "    print(\"\\nFinal Value = \" + str(value_stack.pop()))\n"
   ]
  },
  {
   "cell_type": "code",
   "execution_count": null,
   "metadata": {
    "collapsed": false
   },
   "outputs": [],
   "source": [
    "def run(debug=False):\n",
    "    global show_debug\n",
    "    show_debug = debug\n",
    "    \n",
    "    # Python equivalent of do-while loop\n",
    "    while True:\n",
    "        setup()    \n",
    "        user_input_pass()\n",
    "        assign_values()\n",
    "        compute()\n",
    "        show_result()\n",
    "        if input(\"Continue(y/n)? \") != 'y':\n",
    "            break\n",
    "\n",
    "def main():\n",
    "    if input(\"run in debug mode? \") != 'y':\n",
    "        run()\n",
    "    else:\n",
    "        run(True)\n",
    "\n",
    "\n",
    "if __name__ == '__main__':\n",
    "    main()"
   ]
  },
  {
   "cell_type": "code",
   "execution_count": 20,
   "metadata": {
    "collapsed": false
   },
   "outputs": [
    {
     "name": "stdout",
     "output_type": "stream",
     "text": [
      "Enter a postscript expression with a $ at the end: ab+cd-*$\n",
      "{'a': [1, 0], 'b': [2, 0], 'd': [4, 0], 'c': [3, 0]}\n",
      "tokenized successfully\n",
      "Enter value of a: 3\n",
      "Enter value of b: 5\n",
      "Enter value of c: 7\n",
      "Enter value of d: 2\n",
      "Token dictionary:\n",
      "{'a': [1, 3.0], 'b': [2, 5.0], 'd': [4, 2.0], 'c': [3, 7.0]}\n",
      "Sorted tokens:\n",
      "[('a', [1, 3.0]), ('b', [2, 5.0]), ('c', [3, 7.0]), ('d', [4, 2.0])]\n",
      "{'a': [1, 3.0], 'b': [2, 5.0], 'd': [4, 2.0], 'c': [3, 7.0]}\n",
      "[40.0]\n",
      "\n",
      "Final Value = 40.0\n",
      "Continue(y/n)? n\n"
     ]
    }
   ],
   "source": [
    "run(True)"
   ]
  },
  {
   "cell_type": "code",
   "execution_count": null,
   "metadata": {
    "collapsed": true
   },
   "outputs": [],
   "source": []
  }
 ],
 "metadata": {
  "anaconda-cloud": {},
  "kernelspec": {
   "display_name": "Python [Root]",
   "language": "python",
   "name": "Python [Root]"
  },
  "language_info": {
   "codemirror_mode": {
    "name": "ipython",
    "version": 3
   },
   "file_extension": ".py",
   "mimetype": "text/x-python",
   "name": "python",
   "nbconvert_exporter": "python",
   "pygments_lexer": "ipython3",
   "version": "3.5.2"
  }
 },
 "nbformat": 4,
 "nbformat_minor": 0
}
