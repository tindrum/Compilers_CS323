{
 "cells": [
  {
   "cell_type": "markdown",
   "metadata": {},
   "source": [
    "# RPN (Reverse Polish Notation) Calculator\n",
    "\n",
    "User inputs a string of single-char variables and arithmetic operators, terminated by a dollar sign.\n",
    "\n",
    "```ab+cd+*$```\n",
    "\n",
    "Next, user is prompted to supply values for each variable.\n",
    "\n",
    "Finally, expression is evaluated using postfix rules of evaluation, and the answer is printed."
   ]
  },
  {
   "cell_type": "code",
   "execution_count": 3,
   "metadata": {
    "collapsed": false
   },
   "outputs": [
    {
     "name": "stdout",
     "output_type": "stream",
     "text": [
      "Enter a postscript expression: ab+$\n",
      "tokenized successfully\n",
      "{'b': [2, 0], 'a': [1, 0]}\n",
      "[('a', [1, 0]), ('b', [2, 0])]\n",
      "Enter value of a: 2\n",
      "Enter value of b: 1\n",
      "{'b': [2, 1.0], 'a': [1, 2.0]}\n",
      "{'b': [2, 1.0], 'a': [1, 2.0]}\n",
      "[3.0]\n",
      "\n",
      "Final Value = 3.0\n"
     ]
    }
   ],
   "source": [
    "# from ipywidgets import widgets\n",
    "# from IPython.display import display\n",
    "import operator\n",
    "text = widgets.Text()\n",
    "display(text)\n",
    "\n",
    "def setup():\n",
    "    global tokens\n",
    "    tokens = {}\n",
    "    tokens.clear()\n",
    "    global token_counter\n",
    "    token_counter = 1\n",
    "    global user_string\n",
    "    user_string = ''\n",
    "    global value_stack\n",
    "    value_stack = []\n",
    "\n",
    "def tokenize(string):\n",
    "    operands = 0\n",
    "    if len(string) == 0:\n",
    "        return 'done'\n",
    "    for s in string:\n",
    "        if s.isalpha():\n",
    "            add_token(s)\n",
    "            operands += 1\n",
    "        elif s in ('+', '-', '*', '/'):\n",
    "            # binary operators take two operands\n",
    "            # see if there are enough operands\n",
    "            if operands < 2:\n",
    "                print(\"error out. not enough operands\")\n",
    "                return('error')\n",
    "            else:\n",
    "                # remove operand, since result will be pushed as new operand\n",
    "                operands -= 1\n",
    "        elif s in ('$'):\n",
    "            return 'done'\n",
    "        elif s.isspace():\n",
    "            pass\n",
    "        else:\n",
    "            print('illegal character reached')\n",
    "            return('error')\n",
    "            \n",
    "        \n",
    "            \n",
    "def add_token(character):\n",
    "    global token_counter, tokens\n",
    "    if character not in tokens:\n",
    "        tokens[character] = [token_counter, 0]\n",
    "        token_counter += 1\n",
    "    \n",
    "\n",
    "def handle_submit(sender):\n",
    "    global tokens, user_string\n",
    "    setup()\n",
    "    user_string = sender.value\n",
    "    \n",
    "def user_input_pass():\n",
    "    global tokens,  user_string\n",
    "    user_string = input('Enter a postscript expression: ')\n",
    "    if tokenize(user_string) == 'done':\n",
    "        print('tokenized successfully')\n",
    "        print(tokens)\n",
    "    else:\n",
    "        print('tokenizer error')\n",
    "    # assign_values()\n",
    "        \n",
    "def assign_values():\n",
    "    global tokens\n",
    "    sorted_tokens = sorted(tokens.items(), key=operator.itemgetter(1))\n",
    "    print(sorted_tokens)\n",
    "    for variable in sorted_tokens:\n",
    "        keyval = variable[0]\n",
    "        varval = input('Enter value of ' + keyval + ': ')\n",
    "        # should error out if can't convert to a float\n",
    "        tokens[keyval][1] = float(varval)\n",
    "    print(tokens)\n",
    "    \n",
    "def compute():\n",
    "    global tokens, user_string, value_stack\n",
    "    for char in user_string:\n",
    "        if char.isalpha():\n",
    "            value_stack.append(tokens[char][1])\n",
    "        if char in ('+', '-', '*', '/'):\n",
    "            # binary operators\n",
    "            # check that stack can handle\n",
    "            if len(value_stack) > 1:\n",
    "                B = value_stack.pop()\n",
    "                A = value_stack.pop()\n",
    "                if char == '+':\n",
    "                    value_stack.append(A + B)\n",
    "                elif char == '-':\n",
    "                    value_stack.append(A - B)\n",
    "                elif char == '*':\n",
    "                    value_stack.append(A * B)\n",
    "                elif char == '/':\n",
    "                    if B == 0:\n",
    "                        print('error. Divide by zero.')\n",
    "                        value_stack.append(float('NaN'))\n",
    "                        return('error')\n",
    "                    value_stack.append(A / B)\n",
    "                elif char.isspace():\n",
    "                    pass\n",
    "                else:\n",
    "                    print(\"Unimplemented binary operator. Calculations will be wrong\")\n",
    "                    value_stack.append(A)\n",
    "            else:\n",
    "                print('Error: Stack underflow.')\n",
    "                return('error')\n",
    "        \n",
    "def show_result():\n",
    "    global value_stack, tokens, value_stack\n",
    "    print(tokens)\n",
    "    print(value_stack)\n",
    "    print(\"\\nFinal Value = \" + str(value_stack.pop()))\n",
    "    \n",
    "\n",
    "setup()    \n",
    "user_input_pass()\n",
    "assign_values()\n",
    "compute()\n",
    "show_result()\n",
    "\n",
    "\n"
   ]
  },
  {
   "cell_type": "markdown",
   "metadata": {},
   "source": [
    "My RPN calculator"
   ]
  },
  {
   "cell_type": "code",
   "execution_count": 162,
   "metadata": {
    "collapsed": false
   },
   "outputs": [
    {
     "name": "stdout",
     "output_type": "stream",
     "text": [
      "tokenized successfully\n",
      "{'c': [3, 0], 'b': [2, 0], 'a': [1, 0]}\n"
     ]
    }
   ],
   "source": [
    "user_input_pass()"
   ]
  },
  {
   "cell_type": "code",
   "execution_count": 163,
   "metadata": {
    "collapsed": false
   },
   "outputs": [
    {
     "name": "stdout",
     "output_type": "stream",
     "text": [
      "[('a', [1, 0]), ('b', [2, 0]), ('c', [3, 0])]\n",
      "Enter value of a: 4\n",
      "Enter value of b: 3\n",
      "Enter value of c: 3\n",
      "{'c': [3, 3.0], 'b': [2, 3.0], 'a': [1, 4.0]}\n"
     ]
    }
   ],
   "source": [
    "assign_values()"
   ]
  },
  {
   "cell_type": "markdown",
   "metadata": {},
   "source": [
    "The textbox is keeping focus, so `assign_values()` must be called in the next cell."
   ]
  },
  {
   "cell_type": "code",
   "execution_count": 164,
   "metadata": {
    "collapsed": false
   },
   "outputs": [],
   "source": [
    "compute()"
   ]
  },
  {
   "cell_type": "code",
   "execution_count": 165,
   "metadata": {
    "collapsed": false
   },
   "outputs": [
    {
     "name": "stdout",
     "output_type": "stream",
     "text": [
      "{'c': [3, 3.0], 'b': [2, 3.0], 'a': [1, 4.0]}\n",
      "[84.0]\n",
      "\n",
      "Final Value = 84.0\n"
     ]
    }
   ],
   "source": [
    "show_result()"
   ]
  },
  {
   "cell_type": "code",
   "execution_count": null,
   "metadata": {
    "collapsed": true
   },
   "outputs": [],
   "source": []
  }
 ],
 "metadata": {
  "anaconda-cloud": {},
  "kernelspec": {
   "display_name": "Python [Root]",
   "language": "python",
   "name": "Python [Root]"
  },
  "language_info": {
   "codemirror_mode": {
    "name": "ipython",
    "version": 3
   },
   "file_extension": ".py",
   "mimetype": "text/x-python",
   "name": "python",
   "nbconvert_exporter": "python",
   "pygments_lexer": "ipython3",
   "version": "3.5.2"
  }
 },
 "nbformat": 4,
 "nbformat_minor": 0
}
