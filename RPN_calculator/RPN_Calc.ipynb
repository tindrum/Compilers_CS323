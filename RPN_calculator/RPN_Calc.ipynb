{
 "cells": [
  {
   "cell_type": "code",
   "execution_count": 2,
   "metadata": {
    "collapsed": true
   },
   "outputs": [],
   "source": [
    "%load_ext autoreload\n",
    "%autoreload 2"
   ]
  },
  {
   "cell_type": "markdown",
   "metadata": {},
   "source": [
    "# RPN (Reverse Polish Notation) Calculator\n",
    "## Team Members:\n",
    "* Maziar Bastani\n",
    "* Cody Broxton\n",
    "* Daniel Henderson\n",
    "\n",
    "User inputs a string of single-char variables and arithmetic operators, terminated by a dollar sign.\n",
    "\n",
    "```ab+cd+*$```\n",
    "\n",
    "Next, user is prompted to supply values for each variable.\n",
    "\n",
    "Finally, expression is evaluated using postfix rules of evaluation, and the answer is printed."
   ]
  },
  {
   "cell_type": "code",
   "execution_count": 3,
   "metadata": {
    "collapsed": false
   },
   "outputs": [
    {
     "name": "stdout",
     "output_type": "stream",
     "text": [
      "run in debug mode? n\n",
      "Enter a postscript expression with a $ at the end: lb+$\n",
      "Enter value of l: 4\n",
      "Enter value of b: 5\n",
      "\n",
      "Final Value = 9.0\n",
      "Continue(y/n)? n\n"
     ]
    }
   ],
   "source": [
    "#!/usr/bin/env python3\n",
    "#\n",
    "# Team Members:\n",
    "# Maziar Bastani\n",
    "# Cody Broxton\n",
    "# Daniel Henderson\n",
    "\n",
    "import operator\n",
    "\n",
    "def setup():\n",
    "    global tokens\n",
    "    tokens = {}\n",
    "    tokens.clear()\n",
    "    global token_counter\n",
    "    token_counter = 1\n",
    "    global user_string\n",
    "    user_string = ''\n",
    "    global value_stack\n",
    "    value_stack = []\n",
    "\n",
    "def tokenize(string):\n",
    "    operands = 0\n",
    "    if len(string) == 0:\n",
    "        return 'done'\n",
    "    for s in string:\n",
    "        if s.isalpha():\n",
    "            add_token(s)\n",
    "            operands += 1\n",
    "        elif s in ('+', '-', '*', '/'):\n",
    "            # binary operators take two operands\n",
    "            # see if there are enough operands\n",
    "            if operands < 2:\n",
    "                print(\"error out. not enough operands\")\n",
    "                return('error')\n",
    "            else:\n",
    "                # remove operand, since result will be pushed as new operand\n",
    "                operands -= 1\n",
    "        elif s in ('$'):\n",
    "            return 'done'\n",
    "        elif s.isspace():\n",
    "            pass\n",
    "        else:\n",
    "            print('illegal character reached')\n",
    "            return('error')\n",
    "            \n",
    "def add_token(character):\n",
    "    global token_counter, tokens\n",
    "    if character not in tokens:\n",
    "        tokens[character] = [token_counter, 0]\n",
    "        token_counter += 1\n",
    "        \n",
    "def user_input_pass():\n",
    "    global show_debug\n",
    "    global tokens,  user_string\n",
    "    user_string = input('Enter a postscript expression with a $ at the end: ')\n",
    "    if tokenize(user_string) == 'done':\n",
    "        if show_debug:\n",
    "            print(tokens)\n",
    "            print('tokenized successfully')\n",
    "    else:\n",
    "        print('tokenizer error')\n",
    "    # assign_values()\n",
    "        \n",
    "def assign_values():\n",
    "    global show_debug\n",
    "    global tokens\n",
    "    sorted_tokens = sorted(tokens.items(), key=operator.itemgetter(1))\n",
    "    for variable in sorted_tokens:\n",
    "        keyval = variable[0]\n",
    "        varval = input('Enter value of ' + keyval + ': ')\n",
    "        # should error out if can't convert to a float\n",
    "        tokens[keyval][1] = float(varval)\n",
    "    if show_debug:\n",
    "        print(\"Token dictionary:\")\n",
    "        print(tokens)\n",
    "        print(\"Sorted tokens:\")\n",
    "        print(sorted_tokens)\n",
    "    \n",
    "def compute():\n",
    "    global tokens, user_string, value_stack\n",
    "    for char in user_string:\n",
    "        if char.isalpha():\n",
    "            value_stack.append(tokens[char][1])\n",
    "        if char in ('+', '-', '*', '/'):\n",
    "            # binary operators\n",
    "            # check that stack can handle\n",
    "            if len(value_stack) > 1:\n",
    "                B = value_stack.pop()\n",
    "                A = value_stack.pop()\n",
    "                if char == '+':\n",
    "                    value_stack.append(A + B)\n",
    "                elif char == '-':\n",
    "                    value_stack.append(A - B)\n",
    "                elif char == '*':\n",
    "                    value_stack.append(A * B)\n",
    "                elif char == '/':\n",
    "                    if B == 0:\n",
    "                        print('error. Divide by zero.')\n",
    "                        value_stack.append(float('NaN'))\n",
    "                        return('error')\n",
    "                    value_stack.append(A / B)\n",
    "                elif char.isspace():\n",
    "                    pass\n",
    "                else:\n",
    "                    print(\"Unimplemented binary operator. Calculations will be wrong\")\n",
    "                    value_stack.append(A)\n",
    "            else:\n",
    "                print('Error: Stack underflow.')\n",
    "                return('error')\n",
    "        \n",
    "def show_result():\n",
    "    global show_debug\n",
    "    global value_stack, tokens, value_stack\n",
    "    if show_debug:\n",
    "        print(tokens)\n",
    "        print(value_stack)\n",
    "    print(\"\\nFinal Value = \" + str(value_stack.pop()))\n",
    "    \n",
    "def run(debug=False):\n",
    "    global show_debug\n",
    "    show_debug = debug\n",
    "    \n",
    "    # Python equivalent of do-while loop\n",
    "    while True:\n",
    "        setup()    \n",
    "        user_input_pass()\n",
    "        assign_values()\n",
    "        compute()\n",
    "        show_result()\n",
    "        if input(\"Continue(y/n)? \") != 'y':\n",
    "            break\n",
    "\n",
    "def main():\n",
    "    if input(\"run in debug mode? \") != 'y':\n",
    "        run()\n",
    "    else:\n",
    "        run(True)\n",
    "\n",
    "if __name__ == '__main__':\n",
    "    main()"
   ]
  },
  {
   "cell_type": "code",
   "execution_count": 5,
   "metadata": {
    "collapsed": false,
    "scrolled": true
   },
   "outputs": [
    {
     "name": "stdout",
     "output_type": "stream",
     "text": [
      "Enter a postscript expression with a $ at the end: ab*ac+*$\n",
      "Enter value of a: 2\n",
      "Enter value of b: 3\n",
      "Enter value of c: 4\n",
      "\n",
      "Final Value = 36.0\n",
      "Continue(y/n)? y\n",
      "Enter a postscript expression with a $ at the end: beef*++$\n",
      "Enter value of b: 2\n",
      "Enter value of e: 3\n",
      "Enter value of f: 4\n",
      "\n",
      "Final Value = 17.0\n",
      "Continue(y/n)? n\n"
     ]
    }
   ],
   "source": [
    "run()"
   ]
  },
  {
   "cell_type": "markdown",
   "metadata": {},
   "source": [
    "The code in the second Cell is a proper python3 program. If that cell is selected, the code can be run with **`<shift>+<enter>`** on the keyboard. This will do the pythonic step of checking if a top-level object called **`__main__`** is defined. `__main__` is defined if the code is started from this file, but it isn't if this file was loaded as an include in another file (actually, it's defined for that file, but not this one). \n",
    "\n",
    "There may be a more jupyteric way to do this, but as-is, the code also runs properly when copied and pasted into a file and run from the command line.\n",
    "\n",
    "The other way you can run it, as seen in the cell above, is to simply call the **`run()`** function in any new Cell, as seen in [5]. This method would require that the code has been run once from the first Cell, so that all the functions and methods have been loaded into the python interpreter. This technique may become more useful as the compiler project grows, since this is a means of quickly and easily testing sections of code.\n",
    "\n",
    "Along these lines, variables from the run can be inspected in a code Cell as well. Below, we inspect the **`tokens`** dictionary by just typing in it's name. Its value is then reported."
   ]
  },
  {
   "cell_type": "code",
   "execution_count": 8,
   "metadata": {
    "collapsed": false
   },
   "outputs": [
    {
     "data": {
      "text/plain": [
       "{'a': [1, 3.0], 'b': [2, 4.0]}"
      ]
     },
     "execution_count": 8,
     "metadata": {},
     "output_type": "execute_result"
    }
   ],
   "source": [
    "tokens"
   ]
  },
  {
   "cell_type": "markdown",
   "metadata": {},
   "source": [
    "An improvement on this code would be to have the `tokens` datastructure be a dict of dicts. \n",
    "\n",
    "The first element of the array holds the order in which variables were created while being parsed from the user's RPN equation. It's used to insure that the user is prompted for the values of these variables in the same order his equation has them. Since a dict can't guarantee the order over which its items are iterated, this little bit of information is the data that allows us to do this in a user-friendly, less confusing way. \n",
    "\n",
    "Unfortunately, at this time, I don't know how to use a value from within a dict as the means of creating a sorted structure. The current code is this:\n",
    "\n",
    "```sorted_tokens = sorted(tokens.items(), key=operator.itemgetter(1))```\n",
    "\n",
    "The `itemgetter()` part, I believe, is retrieving the first item in the array, the counter indicating what order tokens were created. There must be a way to get at a value, based on a key, but I don't understand the `operator` package and what it does. This part of code was cargo-culted on from a stackoverflow.com search result."
   ]
  },
  {
   "cell_type": "code",
   "execution_count": null,
   "metadata": {
    "collapsed": true
   },
   "outputs": [],
   "source": []
  }
 ],
 "metadata": {
  "anaconda-cloud": {},
  "kernelspec": {
   "display_name": "Python [Root]",
   "language": "python",
   "name": "Python [Root]"
  },
  "language_info": {
   "codemirror_mode": {
    "name": "ipython",
    "version": 3
   },
   "file_extension": ".py",
   "mimetype": "text/x-python",
   "name": "python",
   "nbconvert_exporter": "python",
   "pygments_lexer": "ipython3",
   "version": "3.5.2"
  }
 },
 "nbformat": 4,
 "nbformat_minor": 0
}
